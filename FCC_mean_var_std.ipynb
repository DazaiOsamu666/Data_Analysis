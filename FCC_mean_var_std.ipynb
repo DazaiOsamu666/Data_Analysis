{
  "nbformat": 4,
  "nbformat_minor": 0,
  "metadata": {
    "colab": {
      "provenance": []
    },
    "kernelspec": {
      "name": "python3",
      "display_name": "Python 3"
    },
    "language_info": {
      "name": "python"
    }
  },
  "cells": [
    {
      "cell_type": "code",
      "execution_count": null,
      "metadata": {
        "id": "2lbE5l52xxud"
      },
      "outputs": [],
      "source": [
        "import numpy as np\n",
        "\n",
        "\n",
        "# define Python user-defined exceptions\n",
        "class ValueError(Exception):\n",
        "  \"List must contain nine numbers.\"\n",
        "  pass\n",
        "\n",
        "\n",
        "def calculate(list):\n",
        "  if len(list) < 9:\n",
        "    raise ValueError\n",
        "\n",
        "  np_list = np.array(list).reshape((3, 3))\n",
        "\n",
        "  calculations = {\n",
        "    'mean': [np_list.mean(axis=0),\n",
        "             np_list.mean(axis=1),\n",
        "             np_list.mean()],\n",
        "    'variance': [np_list.var(axis=0),\n",
        "                 np_list.var(axis=1),\n",
        "                 np_list.var()],\n",
        "    'standard deviation':\n",
        "    [np_list.std(axis=0),\n",
        "     np_list.std(axis=1),\n",
        "     np_list.std()],\n",
        "    'max': [np_list.max(axis=0),\n",
        "            np_list.max(axis=1),\n",
        "            np_list.max()],\n",
        "    'min': [np_list.min(axis=0),\n",
        "            np_list.min(axis=1),\n",
        "            np_list.min()],\n",
        "    'sum': [np_list.sum(axis=0),\n",
        "            np_list.sum(axis=1),\n",
        "            np_list.sum()]\n",
        "  }\n",
        "\n",
        "  return calculations\n"
      ]
    },
    {
      "cell_type": "code",
      "source": [
        "list = [0,9,2,4,3,1,7,5,6]"
      ],
      "metadata": {
        "id": "qXvPYyVvx6Ar"
      },
      "execution_count": null,
      "outputs": []
    },
    {
      "cell_type": "code",
      "source": [
        "calculate(list)"
      ],
      "metadata": {
        "colab": {
          "base_uri": "https://localhost:8080/"
        },
        "id": "OPD3a0AHyAtl",
        "outputId": "c97ad425-11b7-4618-fd72-807528e1abe3"
      },
      "execution_count": null,
      "outputs": [
        {
          "output_type": "execute_result",
          "data": {
            "text/plain": [
              "{'mean': [array([3.66666667, 5.66666667, 3.        ]),\n",
              "  array([3.66666667, 2.66666667, 6.        ]),\n",
              "  4.111111111111111],\n",
              " 'variance': [array([8.22222222, 6.22222222, 4.66666667]),\n",
              "  array([14.88888889,  1.55555556,  0.66666667]),\n",
              "  7.65432098765432],\n",
              " 'standard deviation': [array([2.86744176, 2.49443826, 2.1602469 ]),\n",
              "  array([3.8586123 , 1.24721913, 0.81649658]),\n",
              "  2.7666443551086073],\n",
              " 'max': [array([7, 9, 6]), array([9, 4, 7]), 9],\n",
              " 'min': [array([0, 3, 1]), array([0, 1, 5]), 0],\n",
              " 'sum': [array([11, 17,  9]), array([11,  8, 18]), 37]}"
            ]
          },
          "metadata": {},
          "execution_count": 3
        }
      ]
    }
  ]
}